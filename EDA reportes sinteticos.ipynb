{
 "cells": [
  {
   "cell_type": "markdown",
   "metadata": {},
   "source": [
    "### Versión con grupo test"
   ]
  },
  {
   "cell_type": "code",
   "execution_count": 52,
   "metadata": {
    "collapsed": true,
    "jupyter": {
     "outputs_hidden": true
    }
   },
   "outputs": [
    {
     "name": "stdout",
     "output_type": "stream",
     "text": [
      "Collecting spacy_spanish_lemmatizer\n",
      "  Downloading spacy_spanish_lemmatizer-0.7.tar.gz (8.8 kB)\n",
      "  Preparing metadata (setup.py) ... \u001b[?25ldone\n",
      "\u001b[?25hRequirement already satisfied: spacy>=3.0 in /opt/anaconda3/lib/python3.7/site-packages (from spacy_spanish_lemmatizer) (3.0.6)\n",
      "Requirement already satisfied: preshed<3.1.0,>=3.0.2 in /opt/anaconda3/lib/python3.7/site-packages (from spacy>=3.0->spacy_spanish_lemmatizer) (3.0.5)\n",
      "Requirement already satisfied: wasabi<1.1.0,>=0.8.1 in /opt/anaconda3/lib/python3.7/site-packages (from spacy>=3.0->spacy_spanish_lemmatizer) (0.8.2)\n",
      "Requirement already satisfied: catalogue<2.1.0,>=2.0.3 in /opt/anaconda3/lib/python3.7/site-packages (from spacy>=3.0->spacy_spanish_lemmatizer) (2.0.4)\n",
      "Requirement already satisfied: thinc<8.1.0,>=8.0.3 in /opt/anaconda3/lib/python3.7/site-packages (from spacy>=3.0->spacy_spanish_lemmatizer) (8.0.6)\n",
      "Requirement already satisfied: srsly<3.0.0,>=2.4.1 in /opt/anaconda3/lib/python3.7/site-packages (from spacy>=3.0->spacy_spanish_lemmatizer) (2.4.1)\n",
      "Requirement already satisfied: cymem<2.1.0,>=2.0.2 in /opt/anaconda3/lib/python3.7/site-packages (from spacy>=3.0->spacy_spanish_lemmatizer) (2.0.5)\n",
      "Requirement already satisfied: spacy-legacy<3.1.0,>=3.0.4 in /opt/anaconda3/lib/python3.7/site-packages (from spacy>=3.0->spacy_spanish_lemmatizer) (3.0.6)\n",
      "Requirement already satisfied: jinja2 in /opt/anaconda3/lib/python3.7/site-packages (from spacy>=3.0->spacy_spanish_lemmatizer) (2.11.1)\n",
      "Requirement already satisfied: numpy>=1.15.0 in /opt/anaconda3/lib/python3.7/site-packages (from spacy>=3.0->spacy_spanish_lemmatizer) (1.21.0)\n",
      "Requirement already satisfied: tqdm<5.0.0,>=4.38.0 in /opt/anaconda3/lib/python3.7/site-packages (from spacy>=3.0->spacy_spanish_lemmatizer) (4.42.1)\n",
      "Requirement already satisfied: pydantic<1.8.0,>=1.7.1 in /opt/anaconda3/lib/python3.7/site-packages (from spacy>=3.0->spacy_spanish_lemmatizer) (1.7.4)\n",
      "Requirement already satisfied: typer<0.4.0,>=0.3.0 in /opt/anaconda3/lib/python3.7/site-packages (from spacy>=3.0->spacy_spanish_lemmatizer) (0.3.2)\n",
      "Requirement already satisfied: murmurhash<1.1.0,>=0.28.0 in /opt/anaconda3/lib/python3.7/site-packages (from spacy>=3.0->spacy_spanish_lemmatizer) (1.0.5)\n",
      "Requirement already satisfied: packaging>=20.0 in /opt/anaconda3/lib/python3.7/site-packages (from spacy>=3.0->spacy_spanish_lemmatizer) (20.1)\n",
      "Requirement already satisfied: typing-extensions<4.0.0.0,>=3.7.4 in /opt/anaconda3/lib/python3.7/site-packages (from spacy>=3.0->spacy_spanish_lemmatizer) (3.10.0.0)\n",
      "Requirement already satisfied: pathy>=0.3.5 in /opt/anaconda3/lib/python3.7/site-packages (from spacy>=3.0->spacy_spanish_lemmatizer) (0.5.2)\n",
      "Requirement already satisfied: setuptools in /opt/anaconda3/lib/python3.7/site-packages (from spacy>=3.0->spacy_spanish_lemmatizer) (46.0.0.post20200309)\n",
      "Requirement already satisfied: blis<0.8.0,>=0.4.0 in /opt/anaconda3/lib/python3.7/site-packages (from spacy>=3.0->spacy_spanish_lemmatizer) (0.7.4)\n",
      "Requirement already satisfied: requests<3.0.0,>=2.13.0 in /opt/anaconda3/lib/python3.7/site-packages (from spacy>=3.0->spacy_spanish_lemmatizer) (2.28.1)\n",
      "Requirement already satisfied: zipp>=0.5 in /opt/anaconda3/lib/python3.7/site-packages (from catalogue<2.1.0,>=2.0.3->spacy>=3.0->spacy_spanish_lemmatizer) (2.2.0)\n",
      "Requirement already satisfied: pyparsing>=2.0.2 in /opt/anaconda3/lib/python3.7/site-packages (from packaging>=20.0->spacy>=3.0->spacy_spanish_lemmatizer) (2.4.6)\n",
      "Requirement already satisfied: six in /opt/anaconda3/lib/python3.7/site-packages (from packaging>=20.0->spacy>=3.0->spacy_spanish_lemmatizer) (1.14.0)\n",
      "Requirement already satisfied: smart-open<4.0.0,>=2.2.0 in /opt/anaconda3/lib/python3.7/site-packages (from pathy>=0.3.5->spacy>=3.0->spacy_spanish_lemmatizer) (3.0.0)\n",
      "Requirement already satisfied: idna<4,>=2.5 in /opt/anaconda3/lib/python3.7/site-packages (from requests<3.0.0,>=2.13.0->spacy>=3.0->spacy_spanish_lemmatizer) (2.8)\n",
      "Requirement already satisfied: urllib3<1.27,>=1.21.1 in /opt/anaconda3/lib/python3.7/site-packages (from requests<3.0.0,>=2.13.0->spacy>=3.0->spacy_spanish_lemmatizer) (1.25.8)\n",
      "Requirement already satisfied: certifi>=2017.4.17 in /opt/anaconda3/lib/python3.7/site-packages (from requests<3.0.0,>=2.13.0->spacy>=3.0->spacy_spanish_lemmatizer) (2019.11.28)\n",
      "Requirement already satisfied: charset-normalizer<3,>=2 in /opt/anaconda3/lib/python3.7/site-packages (from requests<3.0.0,>=2.13.0->spacy>=3.0->spacy_spanish_lemmatizer) (2.0.12)\n",
      "Requirement already satisfied: click<7.2.0,>=7.1.1 in /opt/anaconda3/lib/python3.7/site-packages (from typer<0.4.0,>=0.3.0->spacy>=3.0->spacy_spanish_lemmatizer) (7.1.2)\n",
      "Requirement already satisfied: MarkupSafe>=0.23 in /opt/anaconda3/lib/python3.7/site-packages (from jinja2->spacy>=3.0->spacy_spanish_lemmatizer) (1.1.1)\n",
      "Building wheels for collected packages: spacy_spanish_lemmatizer\n",
      "  Building wheel for spacy_spanish_lemmatizer (setup.py) ... \u001b[?25ldone\n",
      "\u001b[?25h  Created wheel for spacy_spanish_lemmatizer: filename=spacy_spanish_lemmatizer-0.7-py3-none-any.whl size=10418 sha256=539c8bf38e7b2bb84e77e9fee75126461720c1bd2a1466530cadbeda2b9bd456\n",
      "  Stored in directory: /Users/hector/Library/Caches/pip/wheels/17/df/2e/8bb859411f5d9e13367b033d677e7c161a864a5bed93e344ad\n",
      "Successfully built spacy_spanish_lemmatizer\n",
      "Installing collected packages: spacy_spanish_lemmatizer\n",
      "Successfully installed spacy_spanish_lemmatizer-0.7\n"
     ]
    }
   ],
   "source": [
    "\n",
    "\n",
    "# Install a pip package in the current Jupyter kernel\n",
    "import sys\n",
    "!{sys.executable} -m pip install spacy_spanish_lemmatizer\n",
    "\n"
   ]
  },
  {
   "cell_type": "code",
   "execution_count": 1,
   "metadata": {},
   "outputs": [],
   "source": [
    "import numpy as np\n",
    "import pandas as pd"
   ]
  },
  {
   "cell_type": "code",
   "execution_count": 2,
   "metadata": {},
   "outputs": [
    {
     "name": "stdout",
     "output_type": "stream",
     "text": [
      "(40000, 3)\n"
     ]
    }
   ],
   "source": [
    "data = pd.read_excel('DataInformesSimuladosMulticlaseVersionTOTAL2.xlsx')\n",
    "\n",
    "\n",
    "print(data.shape)\n"
   ]
  },
  {
   "cell_type": "code",
   "execution_count": 3,
   "metadata": {},
   "outputs": [
    {
     "data": {
      "text/html": [
       "<div>\n",
       "<style scoped>\n",
       "    .dataframe tbody tr th:only-of-type {\n",
       "        vertical-align: middle;\n",
       "    }\n",
       "\n",
       "    .dataframe tbody tr th {\n",
       "        vertical-align: top;\n",
       "    }\n",
       "\n",
       "    .dataframe thead th {\n",
       "        text-align: right;\n",
       "    }\n",
       "</style>\n",
       "<table border=\"1\" class=\"dataframe\">\n",
       "  <thead>\n",
       "    <tr style=\"text-align: right;\">\n",
       "      <th></th>\n",
       "      <th>informes</th>\n",
       "      <th>etiquetas</th>\n",
       "      <th>informes_string</th>\n",
       "    </tr>\n",
       "  </thead>\n",
       "  <tbody>\n",
       "    <tr>\n",
       "      <th>0</th>\n",
       "      <td>['Hemidiafragmas levemente aplanados', 'Sin si...</td>\n",
       "      <td>['dispositivos', 'otros', 'cardiomegalia']</td>\n",
       "      <td>Hemidiafragmas levemente aplanados Sin signos...</td>\n",
       "    </tr>\n",
       "    <tr>\n",
       "      <th>1</th>\n",
       "      <td>['pulmones satisfactoriamente expandidos, sime...</td>\n",
       "      <td>['otros', 'derramePleural', 'neumonia', 'neumo...</td>\n",
       "      <td>pulmones satisfactoriamente expandidos, simet...</td>\n",
       "    </tr>\n",
       "    <tr>\n",
       "      <th>2</th>\n",
       "      <td>['Leve ascenso relativo del hemidiafragma dere...</td>\n",
       "      <td>['neumotorax']</td>\n",
       "      <td>Leve ascenso relativo del hemidiafragma derec...</td>\n",
       "    </tr>\n",
       "    <tr>\n",
       "      <th>3</th>\n",
       "      <td>['diafragma bien situado y definido', 'No se o...</td>\n",
       "      <td>['quirurgico', 'dispositivos']</td>\n",
       "      <td>diafragma bien situado y definido No se obser...</td>\n",
       "    </tr>\n",
       "    <tr>\n",
       "      <th>4</th>\n",
       "      <td>['volumenes pulmonares normales.', 'No hay sig...</td>\n",
       "      <td>['normal']</td>\n",
       "      <td>volumenes pulmonares normales. No hay signos ...</td>\n",
       "    </tr>\n",
       "  </tbody>\n",
       "</table>\n",
       "</div>"
      ],
      "text/plain": [
       "                                            informes  \\\n",
       "0  ['Hemidiafragmas levemente aplanados', 'Sin si...   \n",
       "1  ['pulmones satisfactoriamente expandidos, sime...   \n",
       "2  ['Leve ascenso relativo del hemidiafragma dere...   \n",
       "3  ['diafragma bien situado y definido', 'No se o...   \n",
       "4  ['volumenes pulmonares normales.', 'No hay sig...   \n",
       "\n",
       "                                           etiquetas  \\\n",
       "0         ['dispositivos', 'otros', 'cardiomegalia']   \n",
       "1  ['otros', 'derramePleural', 'neumonia', 'neumo...   \n",
       "2                                     ['neumotorax']   \n",
       "3                     ['quirurgico', 'dispositivos']   \n",
       "4                                         ['normal']   \n",
       "\n",
       "                                     informes_string  \n",
       "0   Hemidiafragmas levemente aplanados Sin signos...  \n",
       "1   pulmones satisfactoriamente expandidos, simet...  \n",
       "2   Leve ascenso relativo del hemidiafragma derec...  \n",
       "3   diafragma bien situado y definido No se obser...  \n",
       "4   volumenes pulmonares normales. No hay signos ...  "
      ]
     },
     "execution_count": 3,
     "metadata": {},
     "output_type": "execute_result"
    }
   ],
   "source": [
    "data.head(5)"
   ]
  },
  {
   "cell_type": "code",
   "execution_count": 22,
   "metadata": {},
   "outputs": [
    {
     "name": "stdout",
     "output_type": "stream",
     "text": [
      "Reporte número: 31040\n",
      "Reporte:\n",
      "\n",
      "['Diafragma en posición normal, de contornos bien definidos', 'Sin signos de derrame pleural', 'campos pulmonares de transparencia conservada, sin imagenes de condensacion, nodulos ni signos de neumotorax.', 'silueta cardiaca de tamaño normal para la proyeccion. Aorta toracica elongada.']\n",
      "Etiquetas:\n",
      " ['normal']\n"
     ]
    }
   ],
   "source": [
    "index = np.random.randint(0, data.shape[0])\n",
    "index\n",
    "\n",
    "print(\"Reporte número: {}\".format(index))\n",
    "print(\"Reporte:\\n\")\n",
    "print(data['informes'].iloc[index])\n",
    "print('Etiquetas:\\n', data['etiquetas'].iloc[index])"
   ]
  },
  {
   "cell_type": "code",
   "execution_count": null,
   "metadata": {},
   "outputs": [],
   "source": []
  }
 ],
 "metadata": {
  "kernelspec": {
   "display_name": "Python 3",
   "language": "python",
   "name": "python3"
  },
  "language_info": {
   "codemirror_mode": {
    "name": "ipython",
    "version": 3
   },
   "file_extension": ".py",
   "mimetype": "text/x-python",
   "name": "python",
   "nbconvert_exporter": "python",
   "pygments_lexer": "ipython3",
   "version": "3.7.6"
  }
 },
 "nbformat": 4,
 "nbformat_minor": 4
}
